{
 "cells": [
  {
   "cell_type": "code",
   "execution_count": null,
   "metadata": {},
   "outputs": [],
   "source": [
    "# import torch\n",
    "# from transformers import AutoModelForCausalLM"
   ]
  },
  {
   "cell_type": "code",
   "execution_count": null,
   "metadata": {},
   "outputs": [],
   "source": [
    "# ! pip install openxlab #安装\n",
    "# ! pip install -U openxlab #版本升级"
   ]
  },
  {
   "cell_type": "code",
   "execution_count": null,
   "metadata": {},
   "outputs": [],
   "source": [
    "# import openxlab\n",
    "# openxlab.login(ak='', sk='') #进行登录，输入对应的AK/SK\n",
    "\n",
    "# from openxlab.dataset import info\n",
    "# info(dataset_repo='OpenDataLab/WanJuanCC') #数据集信息及文件列表查看\n",
    "\n",
    "# from openxlab.dataset import get\n",
    "# get(dataset_repo='OpenDataLab/WanJuanCC', target_path='/root/code/nanointernlm/data/wanjuan')  # 数据集下载\n",
    "\n",
    "# from openxlab.dataset import download\n",
    "# download(dataset_repo='OpenDataLab/WanJuanCC',source_path='/README.md', target_path='/root/code/nanointernlm/data/wanjuan') #数据集文件下载"
   ]
  },
  {
   "cell_type": "code",
   "execution_count": null,
   "metadata": {},
   "outputs": [],
   "source": []
  },
  {
   "cell_type": "code",
   "execution_count": null,
   "metadata": {},
   "outputs": [],
   "source": []
  },
  {
   "cell_type": "code",
   "execution_count": null,
   "metadata": {},
   "outputs": [],
   "source": []
  }
 ],
 "metadata": {
  "language_info": {
   "name": "python"
  }
 },
 "nbformat": 4,
 "nbformat_minor": 2
}
